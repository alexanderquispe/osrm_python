{
 "cells": [
  {
   "cell_type": "code",
   "execution_count": 1,
   "metadata": {},
   "outputs": [],
   "source": [
    "from osrmareas.osrm import Server"
   ]
  },
  {
   "cell_type": "code",
   "execution_count": 2,
   "metadata": {},
   "outputs": [],
   "source": [
    "pbf_file = 'chile-latest.osm'\n",
    "pbf_file_path = 'D:\\Workflow\\work\\osrm-backend\\data'\n",
    "tmp_file = ''\n",
    "a=Server(pbf_file, pbf_file_path)\n",
    "# a.gen_osrm_file"
   ]
  },
  {
   "cell_type": "code",
   "execution_count": 5,
   "metadata": {},
   "outputs": [
    {
     "data": {
      "text/plain": [
       "'Done'"
      ]
     },
     "execution_count": 5,
     "metadata": {},
     "output_type": "execute_result"
    }
   ],
   "source": [
    "a.prepare_server()\n",
    "# a.run_server()"
   ]
  },
  {
   "cell_type": "code",
   "execution_count": 6,
   "metadata": {},
   "outputs": [
    {
     "data": {
      "text/plain": [
       "<osrmareas.osrm.Server at 0x22838e15490>"
      ]
     },
     "execution_count": 6,
     "metadata": {},
     "output_type": "execute_result"
    }
   ],
   "source": [
    "a.run_server()"
   ]
  },
  {
   "cell_type": "code",
   "execution_count": 2,
   "metadata": {},
   "outputs": [
    {
     "data": {
      "text/plain": [
       "'algo'"
      ]
     },
     "execution_count": 2,
     "metadata": {},
     "output_type": "execute_result"
    }
   ],
   "source": [
    "a = 'algo'\n",
    "b = a\n",
    "a = 's'\n",
    "b"
   ]
  },
  {
   "cell_type": "code",
   "execution_count": 19,
   "metadata": {},
   "outputs": [
    {
     "data": {
      "text/plain": [
       "'C:\\\\Users\\\\Jhon\\\\AppData\\\\Local\\\\Temp\\\\tmpt0lejroj.bat'"
      ]
     },
     "execution_count": 19,
     "metadata": {},
     "output_type": "execute_result"
    }
   ],
   "source": [
    "import tempfile\n",
    "file = tempfile.NamedTemporaryFile(delete=False, suffix='.bat')\n",
    "file_name = file.name\n",
    "# os.path\n",
    "with open(file_name, 'w') as bt:\n",
    "\tbt.write(\"algo\")\n",
    "file_name"
   ]
  },
  {
   "cell_type": "code",
   "execution_count": 28,
   "metadata": {},
   "outputs": [
    {
     "data": {
      "text/plain": [
       "'D:\\\\Workflow\\\\work\\\\osrm-backend\\\\data\\\\chile-latest.osrm'"
      ]
     },
     "execution_count": 28,
     "metadata": {},
     "output_type": "execute_result"
    }
   ],
   "source": [
    "pbf_file = 'chile-latest.osm'\n",
    "pbf_file_path = 'D:\\Workflow\\work\\osrm-backend\\data'\n",
    "\n",
    "osrm_path = 'C:\\osrm'\n",
    "\n",
    "pbf = f'{pbf_file_path}\\{pbf_file}.pbf'\n",
    "osm = pbf_file.replace(\".osm\", \"\")\n",
    "osrm = f'{pbf_file_path}\\{osm}.osrm'\n",
    "method_lua = 'car'\n",
    "method = f'{osrm_path}\\{method_lua}.lua'\n",
    "\n",
    "osrm_extract = f'{osrm_path}\\osrm-extract.exe'\n",
    "osrm_contract = f'{osrm_path}\\osrm-contract.exe'\n",
    "osrm_routed = f'{osrm_path}\\osrm-routed.exe'\n",
    "\n",
    "gen_osrm_file = f'{osrm_extract} -p {method} {pbf}'\n",
    "gen_routes = f'{osrm_extract} {osrm}'\n",
    "gen_backend = f'{osrm_routed} {osrm}'\n",
    "osrm"
   ]
  },
  {
   "cell_type": "code",
   "execution_count": 6,
   "metadata": {},
   "outputs": [
    {
     "name": "stdout",
     "output_type": "stream",
     "text": [
      "Substring found in the text.\n"
     ]
    }
   ],
   "source": [
    "text = \"yes\"\n",
    "substring = \"y\"\n",
    "\n",
    "if substring in text:\n",
    "    print(\"Substring found in the text.\")\n",
    "else:\n",
    "    print(\"Substring not found in the text.\")\n"
   ]
  },
  {
   "cell_type": "code",
   "execution_count": 34,
   "metadata": {},
   "outputs": [],
   "source": [
    "import os\n",
    "texto = f'''\n",
    "{gen_osrm_file}\n",
    "{gen_routes}\n",
    "{gen_backend}\n",
    "'''\n",
    "\n",
    "\n",
    "file = 'echo.bat'\n",
    "with open(file, 'w') as a:\n",
    "\ta.write(texto)\n",
    "\n",
    "# if os.path.exists(osrm):\n"
   ]
  },
  {
   "cell_type": "code",
   "execution_count": 31,
   "metadata": {},
   "outputs": [
    {
     "data": {
      "text/plain": [
       "'no'"
      ]
     },
     "execution_count": 31,
     "metadata": {},
     "output_type": "execute_result"
    }
   ],
   "source": [
    "input(f\"Run osrm-routed.exe \")"
   ]
  },
  {
   "cell_type": "code",
   "execution_count": 1,
   "metadata": {},
   "outputs": [
    {
     "name": "stderr",
     "output_type": "stream",
     "text": [
      "c:\\Users\\Jhon\\AppData\\Local\\Programs\\Python\\Python38\\lib\\site-packages\\geopandas\\_compat.py:124: UserWarning: The Shapely GEOS version (3.11.1-CAPI-1.17.1) is incompatible with the GEOS version PyGEOS was compiled with (3.10.4-CAPI-1.16.2). Conversions between both will be slow.\n",
      "  warnings.warn(\n"
     ]
    }
   ],
   "source": [
    "from osrmareas import areas\n",
    "pa = [-33.437415, -70.651278] #plaza de armas\n",
    "pm = [-33.442821, -70.654212] #palacio de la moneda"
   ]
  },
  {
   "cell_type": "code",
   "execution_count": 4,
   "metadata": {},
   "outputs": [],
   "source": [
    "from osrmareas import  areas\n",
    "all = areas.get_routes([-20.2015383, -70.1575468], radius_km=2)"
   ]
  },
  {
   "cell_type": "code",
   "execution_count": 2,
   "metadata": {},
   "outputs": [],
   "source": [
    "from osrmareas.downloader import GetPBF"
   ]
  },
  {
   "cell_type": "code",
   "execution_count": 5,
   "metadata": {},
   "outputs": [
    {
     "data": {
      "text/plain": [
       "'https://github.com/alexanderquispe/osrm_python/raw/data/data_ref/country_df.csv'"
      ]
     },
     "execution_count": 5,
     "metadata": {},
     "output_type": "execute_result"
    }
   ],
   "source": [
    "import osrmareas.downloader as a\n",
    "a.country_df"
   ]
  },
  {
   "cell_type": "code",
   "execution_count": 7,
   "metadata": {},
   "outputs": [],
   "source": [
    "import matplotlib.pyplot  as plt"
   ]
  },
  {
   "cell_type": "code",
   "execution_count": 10,
   "metadata": {},
   "outputs": [
    {
     "data": {
      "text/plain": [
       "<matplotlib.collections.PathCollection at 0x205bd12c760>"
      ]
     },
     "execution_count": 10,
     "metadata": {},
     "output_type": "execute_result"
    },
    {
     "data": {
      "image/png": "[encoded data removed]",
      "text/plain": [
       "<Figure size 640x480 with 1 Axes>"
      ]
     },
     "metadata": {},
     "output_type": "display_data"
    }
   ],
   "source": [
    "all = all.query('dist_km < 20')\n",
    "x = all.x\n",
    "y = all.y\n",
    "plt.scatter(x, y)"
   ]
  },
  {
   "cell_type": "code",
   "execution_count": 13,
   "metadata": {},
   "outputs": [
    {
     "data": {
      "text/plain": [
       "<Axes: >"
      ]
     },
     "execution_count": 13,
     "metadata": {},
     "output_type": "execute_result"
    },
    {
     "data": {
      "image/png": "[encoded data removed]",
      "text/plain": [
       "<Figure size 640x480 with 1 Axes>"
      ]
     },
     "metadata": {},
     "output_type": "display_data"
    }
   ],
   "source": [
    "# a=all.query('dist_km < 15')\n",
    "# a.plot()\n",
    "areas.get_ameba(all, 100, 20).plot()"
   ]
  }
 ],
 "metadata": {
  "kernelspec": {
   "display_name": "Python 3",
   "language": "python",
   "name": "python3"
  },
  "language_info": {
   "codemirror_mode": {
    "name": "ipython",
    "version": 3
   },
   "file_extension": ".py",
   "mimetype": "text/x-python",
   "name": "python",
   "nbconvert_exporter": "python",
   "pygments_lexer": "ipython3",
   "version": "3.8.10"
  },
  "orig_nbformat": 4
 },
 "nbformat": 4,
 "nbformat_minor": 2
}
