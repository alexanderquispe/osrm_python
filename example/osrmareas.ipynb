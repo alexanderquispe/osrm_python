{
  "cells": [
    {
      "cell_type": "raw",
      "metadata": {},
      "source": [
        "---\n",
        "title: osrm areas\n",
        "format: gfm\n",
        "---"
      ]
    },
    {
      "attachments": {},
      "cell_type": "markdown",
      "metadata": {},
      "source": [
        "# OSRM areas\n",
        "\n",
        "## Installation\n",
        "\n",
        "From GitHub\n",
        "\n",
        "```\n",
        "pip install git+https://github.com/alexanderquispe/osrm_python\n",
        "```\n",
        "Specific branch \n",
        "\n",
        "```\n",
        "pip install git+https://github.com/alexanderquispe/osrm_python@{branch}\n",
        "```\n",
        "\n",
        "## Download `PBF` files from [geofabrik](https://download.geofabrik.de/)"
      ]
    },
    {
      "cell_type": "code",
      "execution_count": 1,
      "metadata": {},
      "outputs": [
        {
          "name": "stdout",
          "output_type": "stream",
          "text": [
            "Convert the country names to lowercase and replace spaces with dashes (-).\n",
            "source: https://download.geofabrik.de/\n"
          ]
        }
      ],
      "source": [
        "from osrmareas.downloader import GetPBF\n",
        "download = GetPBF()"
      ]
    },
    {
      "cell_type": "code",
      "execution_count": 2,
      "metadata": {},
      "outputs": [],
      "source": [
        "import os\n",
        "def dir_tree(path):\n",
        "    for root, dirs, files in os.walk(path):\n",
        "        level = root.replace(path, '').count(os.sep)\n",
        "        indent = ' ' * 4 * (level)\n",
        "        print('{}{}/'.format(indent, os.path.basename(root)))\n",
        "        sub_indent = ' ' * 4 * (level + 1)\n",
        "        for file in files:\n",
        "            print('{}{}'.format(sub_indent, file))"
      ]
    },
    {
      "attachments": {},
      "cell_type": "markdown",
      "metadata": {},
      "source": [
        "We can download files using the methods `GetPBF.country([where], continent=None).get()` for countries and `GetPBF.sub_region([where], continent=None, country=None).get()` for sub-regions within some countries.\n",
        "\n",
        "The database can be called as follows:\n",
        "\n",
        "```py\n",
        "import osrmareas.downloader as dwnl\n",
        "dwnl.cnt # continent\n",
        "dnwl.cntry # continent, countries\n",
        "dnwl.region # continent, countries, regions\n",
        "```\n",
        "\n",
        "For file downloads, you can specify the name of the folder (if it does not exist, it will be created) where the file(s) will be downloaded. If a file with the same name already exists, it will skip the download. You can force the download with the `get(force_download=True)` parameter."
      ]
    },
    {
      "cell_type": "code",
      "execution_count": 3,
      "metadata": {},
      "outputs": [
        {
          "name": "stdout",
          "output_type": "stream",
          "text": [
            "country_pbf/\n",
            "    pakistan-latest.osm.pbf\n",
            "    peru-latest.osm.pbf\n"
          ]
        }
      ],
      "source": [
        "download.country(['peru', 'pakistan']).get(save_dir='country_pbf')\n",
        "dir_tree(\"country_pbf\")"
      ]
    },
    {
      "cell_type": "code",
      "execution_count": 4,
      "metadata": {},
      "outputs": [
        {
          "data": {
            "text/plain": [
              "<osrmareas.downloader.GetPBF at 0x1ee9dd99760>"
            ]
          },
          "execution_count": 4,
          "metadata": {},
          "output_type": "execute_result"
        }
      ],
      "source": [
        "download.sub_region(['alberta']).get(save_dir='sub_region_pbf')\n",
        "# download.sub_region(['alberta'], country=[\"canada\"], continent=[\"north-america\"])"
      ]
    },
    {
      "attachments": {},
      "cell_type": "markdown",
      "metadata": {},
      "source": [
        "## Local OSRM Configuration\n",
        "\n",
        "For the local OSRM configuration, there are several steps involved.\n",
        "\n",
        "- Download the binary files and save them in a specific folder (recommended: `C:\\osrm`).\n",
        "- Import the server module.\n",
        "  1. Generate the OSRM file.\n",
        "  2. Prepare the server.\n",
        "  3. Run OSRM locally."
      ]
    },
    {
      "cell_type": "code",
      "execution_count": 5,
      "metadata": {},
      "outputs": [],
      "source": [
        "from osrmareas.osrm import Server\n",
        "cnd_alb = Server(\"alberta-latest.osm\", \"sub_region_pbf\")"
      ]
    },
    {
      "attachments": {},
      "cell_type": "markdown",
      "metadata": {},
      "source": [
        "Both `gen_osrm_1()` and `prepare_server_2()` functions can consume up to 100% of the CPU."
      ]
    },
    {
      "cell_type": "code",
      "execution_count": 6,
      "metadata": {},
      "outputs": [
        {
          "name": "stdout",
          "output_type": "stream",
          "text": [
            "Please run the following function only once for each .pbf file. (It takes some time to execute, and consume all the CPU)\n",
            "Found sub_region_pbf\\alberta-latest.osrm file\n",
            "Done, generate a osrm file\n",
            "Please run the following function only once for each .pbf file. (It takes some time to execute, and consume all the CPU)\n",
            "Done, I have generated the local OSRM server with `{server}.run_server()`.\n"
          ]
        },
        {
          "data": {
            "text/plain": [
              "<osrmareas.osrm.Server at 0x1eeb634da00>"
            ]
          },
          "execution_count": 6,
          "metadata": {},
          "output_type": "execute_result"
        }
      ],
      "source": [
        "cnd_alb.gen_osrm_1()\n",
        "cnd_alb.prepare_server_2()"
      ]
    },
    {
      "attachments": {},
      "cell_type": "markdown",
      "metadata": {},
      "source": [
        "After preparing the server, there will be new files generated."
      ]
    },
    {
      "cell_type": "code",
      "execution_count": 7,
      "metadata": {},
      "outputs": [
        {
          "name": "stdout",
          "output_type": "stream",
          "text": [
            "sub_region_pbf/\n",
            "    alberta-latest.osm.pbf\n",
            "    alberta-latest.osrm\n",
            "    alberta-latest.osrm.cnbg\n",
            "    alberta-latest.osrm.cnbg_to_ebg\n",
            "    alberta-latest.osrm.datasource_names\n",
            "    alberta-latest.osrm.ebg\n",
            "    alberta-latest.osrm.ebg_nodes\n",
            "    alberta-latest.osrm.edges\n",
            "    alberta-latest.osrm.enw\n",
            "    alberta-latest.osrm.fileIndex\n",
            "    alberta-latest.osrm.geometry\n",
            "    alberta-latest.osrm.hsgr\n",
            "    alberta-latest.osrm.icd\n",
            "    alberta-latest.osrm.names\n",
            "    alberta-latest.osrm.nbg_nodes\n",
            "    alberta-latest.osrm.properties\n",
            "    alberta-latest.osrm.ramIndex\n",
            "    alberta-latest.osrm.restrictions\n",
            "    alberta-latest.osrm.timestamp\n",
            "    alberta-latest.osrm.tld\n",
            "    alberta-latest.osrm.tls\n",
            "    alberta-latest.osrm.turn_duration_penalties\n",
            "    alberta-latest.osrm.turn_penalties_index\n",
            "    alberta-latest.osrm.turn_weight_penalties\n"
          ]
        }
      ],
      "source": [
        "dir_tree('sub_region_pbf')"
      ]
    },
    {
      "attachments": {},
      "cell_type": "markdown",
      "metadata": {},
      "source": [
        "We can start the server as follows:"
      ]
    },
    {
      "cell_type": "code",
      "execution_count": 8,
      "metadata": {},
      "outputs": [
        {
          "name": "stdout",
          "output_type": "stream",
          "text": [
            "The server is running in the background, you can start making queries.\n"
          ]
        },
        {
          "data": {
            "text/plain": [
              "<osrmareas.osrm.Server at 0x1eeb634da00>"
            ]
          },
          "execution_count": 8,
          "metadata": {},
          "output_type": "execute_result"
        }
      ],
      "source": [
        "cnd_alb.run_server()"
      ]
    },
    {
      "attachments": {},
      "cell_type": "markdown",
      "metadata": {},
      "source": [
        "We can make route queries using `areas.get_osrm_routes(from, to)`.\n",
        "\n",
        "Describe el código en inglés"
      ]
    },
    {
      "cell_type": "code",
      "execution_count": 9,
      "metadata": {},
      "outputs": [
        {
          "name": "stderr",
          "output_type": "stream",
          "text": [
            "c:\\Users\\Jhon\\AppData\\Local\\Programs\\Python\\Python38\\lib\\site-packages\\geopandas\\_compat.py:124: UserWarning: The Shapely GEOS version (3.11.1-CAPI-1.17.1) is incompatible with the GEOS version PyGEOS was compiled with (3.10.4-CAPI-1.16.2). Conversions between both will be slow.\n",
            "  warnings.warn(\n"
          ]
        },
        {
          "data": {
            "text/html": [
              "<div>\n",
              "<style scoped>\n",
              "    .dataframe tbody tr th:only-of-type {\n",
              "        vertical-align: middle;\n",
              "    }\n",
              "\n",
              "    .dataframe tbody tr th {\n",
              "        vertical-align: top;\n",
              "    }\n",
              "\n",
              "    .dataframe thead th {\n",
              "        text-align: right;\n",
              "    }\n",
              "</style>\n",
              "<table border=\"1\" class=\"dataframe\">\n",
              "  <thead>\n",
              "    <tr style=\"text-align: right;\">\n",
              "      <th></th>\n",
              "      <th>geometry</th>\n",
              "      <th>dist_km</th>\n",
              "      <th>x</th>\n",
              "      <th>y</th>\n",
              "      <th>x_begin</th>\n",
              "      <th>y_begin</th>\n",
              "    </tr>\n",
              "  </thead>\n",
              "  <tbody>\n",
              "    <tr>\n",
              "      <th>0</th>\n",
              "      <td>LINESTRING (-113.26850 53.55087, -113.26895 53...</td>\n",
              "      <td>1.2714</td>\n",
              "      <td>53.548449</td>\n",
              "      <td>-113.258648</td>\n",
              "      <td>53.550905</td>\n",
              "      <td>-113.268436</td>\n",
              "    </tr>\n",
              "  </tbody>\n",
              "</table>\n",
              "</div>"
            ],
            "text/plain": [
              "                                            geometry  dist_km          x  \\\n",
              "0  LINESTRING (-113.26850 53.55087, -113.26895 53...   1.2714  53.548449   \n",
              "\n",
              "            y    x_begin     y_begin  \n",
              "0 -113.258648  53.550905 -113.268436  "
            ]
          },
          "execution_count": 9,
          "metadata": {},
          "output_type": "execute_result"
        }
      ],
      "source": [
        "from osrmareas import areas\n",
        "from_ = [53.550905, -113.268436]\n",
        "to_ = [53.548449, -113.258648]\n",
        "rt = areas.get_osrm_route(from_, to_)\n",
        "rt"
      ]
    },
    {
      "cell_type": "code",
      "execution_count": 10,
      "metadata": {},
      "outputs": [
        {
          "data": {
            "text/plain": [
              "<Axes: >"
            ]
          },
          "execution_count": 10,
          "metadata": {},
          "output_type": "execute_result"
        },
        {
          "data": {
            "image/png": "[encoded data removed]",
            "text/plain": [
              "<Figure size 640x480 with 1 Axes>"
            ]
          },
          "metadata": {},
          "output_type": "display_data"
        }
      ],
      "source": [
        "rt.plot()"
      ]
    },
    {
      "attachments": {},
      "cell_type": "markdown",
      "metadata": {},
      "source": [
        "the [Google Maps route](https://www.google.com/maps/dir/53.550905,+-113.268436/53.548449,+-113.258648/@53.5489972,-113.2648387,17z/data=!4m10!4m9!1m3!2m2!1d-113.268436!2d53.550905!1m3!2m2!1d-113.258648!2d53.548449!3e0?entry=ttu)\n",
        "\n",
        "\n",
        "We can also obtain all routes within a default radius (in kilometers)."
      ]
    },
    {
      "cell_type": "code",
      "execution_count": 11,
      "metadata": {},
      "outputs": [
        {
          "data": {
            "text/html": [
              "<div>\n",
              "<style scoped>\n",
              "    .dataframe tbody tr th:only-of-type {\n",
              "        vertical-align: middle;\n",
              "    }\n",
              "\n",
              "    .dataframe tbody tr th {\n",
              "        vertical-align: top;\n",
              "    }\n",
              "\n",
              "    .dataframe thead th {\n",
              "        text-align: right;\n",
              "    }\n",
              "</style>\n",
              "<table border=\"1\" class=\"dataframe\">\n",
              "  <thead>\n",
              "    <tr style=\"text-align: right;\">\n",
              "      <th></th>\n",
              "      <th>geometry</th>\n",
              "      <th>dist_km</th>\n",
              "      <th>x</th>\n",
              "      <th>y</th>\n",
              "      <th>x_begin</th>\n",
              "      <th>y_begin</th>\n",
              "    </tr>\n",
              "  </thead>\n",
              "  <tbody>\n",
              "    <tr>\n",
              "      <th>0</th>\n",
              "      <td>LINESTRING (-113.26850 53.55087, -113.26895 53...</td>\n",
              "      <td>5.0417</td>\n",
              "      <td>53.526882</td>\n",
              "      <td>-113.308860</td>\n",
              "      <td>53.550905</td>\n",
              "      <td>-113.268436</td>\n",
              "    </tr>\n",
              "    <tr>\n",
              "      <th>0</th>\n",
              "      <td>LINESTRING (-113.26850 53.55087, -113.26895 53...</td>\n",
              "      <td>5.0352</td>\n",
              "      <td>53.532221</td>\n",
              "      <td>-113.308860</td>\n",
              "      <td>53.550905</td>\n",
              "      <td>-113.268436</td>\n",
              "    </tr>\n",
              "    <tr>\n",
              "      <th>0</th>\n",
              "      <td>LINESTRING (-113.26850 53.55087, -113.26895 53...</td>\n",
              "      <td>4.5280</td>\n",
              "      <td>53.537560</td>\n",
              "      <td>-113.308860</td>\n",
              "      <td>53.550905</td>\n",
              "      <td>-113.268436</td>\n",
              "    </tr>\n",
              "    <tr>\n",
              "      <th>0</th>\n",
              "      <td>LINESTRING (-113.26850 53.55087, -113.26895 53...</td>\n",
              "      <td>3.9101</td>\n",
              "      <td>53.542899</td>\n",
              "      <td>-113.308860</td>\n",
              "      <td>53.550905</td>\n",
              "      <td>-113.268436</td>\n",
              "    </tr>\n",
              "    <tr>\n",
              "      <th>0</th>\n",
              "      <td>LINESTRING (-113.26850 53.55087, -113.27509 53...</td>\n",
              "      <td>4.1813</td>\n",
              "      <td>53.548236</td>\n",
              "      <td>-113.308860</td>\n",
              "      <td>53.550905</td>\n",
              "      <td>-113.268436</td>\n",
              "    </tr>\n",
              "    <tr>\n",
              "      <th>...</th>\n",
              "      <td>...</td>\n",
              "      <td>...</td>\n",
              "      <td>...</td>\n",
              "      <td>...</td>\n",
              "      <td>...</td>\n",
              "      <td>...</td>\n",
              "    </tr>\n",
              "    <tr>\n",
              "      <th>0</th>\n",
              "      <td>LINESTRING (-113.26850 53.55087, -113.26910 53...</td>\n",
              "      <td>5.4344</td>\n",
              "      <td>53.553573</td>\n",
              "      <td>-113.228012</td>\n",
              "      <td>53.550905</td>\n",
              "      <td>-113.268436</td>\n",
              "    </tr>\n",
              "    <tr>\n",
              "      <th>0</th>\n",
              "      <td>LINESTRING (-113.26850 53.55087, -113.27509 53...</td>\n",
              "      <td>6.7640</td>\n",
              "      <td>53.558910</td>\n",
              "      <td>-113.228012</td>\n",
              "      <td>53.550905</td>\n",
              "      <td>-113.268436</td>\n",
              "    </tr>\n",
              "    <tr>\n",
              "      <th>0</th>\n",
              "      <td>LINESTRING (-113.26850 53.55087, -113.27509 53...</td>\n",
              "      <td>6.1856</td>\n",
              "      <td>53.564245</td>\n",
              "      <td>-113.228012</td>\n",
              "      <td>53.550905</td>\n",
              "      <td>-113.268436</td>\n",
              "    </tr>\n",
              "    <tr>\n",
              "      <th>0</th>\n",
              "      <td>LINESTRING (-113.26850 53.55087, -113.27509 53...</td>\n",
              "      <td>6.0089</td>\n",
              "      <td>53.569580</td>\n",
              "      <td>-113.228012</td>\n",
              "      <td>53.550905</td>\n",
              "      <td>-113.268436</td>\n",
              "    </tr>\n",
              "    <tr>\n",
              "      <th>0</th>\n",
              "      <td>LINESTRING (-113.26850 53.55087, -113.27509 53...</td>\n",
              "      <td>6.0849</td>\n",
              "      <td>53.574915</td>\n",
              "      <td>-113.228012</td>\n",
              "      <td>53.550905</td>\n",
              "      <td>-113.268436</td>\n",
              "    </tr>\n",
              "  </tbody>\n",
              "</table>\n",
              "<p>100 rows × 6 columns</p>\n",
              "</div>"
            ],
            "text/plain": [
              "                                             geometry  dist_km          x  \\\n",
              "0   LINESTRING (-113.26850 53.55087, -113.26895 53...   5.0417  53.526882   \n",
              "0   LINESTRING (-113.26850 53.55087, -113.26895 53...   5.0352  53.532221   \n",
              "0   LINESTRING (-113.26850 53.55087, -113.26895 53...   4.5280  53.537560   \n",
              "0   LINESTRING (-113.26850 53.55087, -113.26895 53...   3.9101  53.542899   \n",
              "0   LINESTRING (-113.26850 53.55087, -113.27509 53...   4.1813  53.548236   \n",
              "..                                                ...      ...        ...   \n",
              "0   LINESTRING (-113.26850 53.55087, -113.26910 53...   5.4344  53.553573   \n",
              "0   LINESTRING (-113.26850 53.55087, -113.27509 53...   6.7640  53.558910   \n",
              "0   LINESTRING (-113.26850 53.55087, -113.27509 53...   6.1856  53.564245   \n",
              "0   LINESTRING (-113.26850 53.55087, -113.27509 53...   6.0089  53.569580   \n",
              "0   LINESTRING (-113.26850 53.55087, -113.27509 53...   6.0849  53.574915   \n",
              "\n",
              "             y    x_begin     y_begin  \n",
              "0  -113.308860  53.550905 -113.268436  \n",
              "0  -113.308860  53.550905 -113.268436  \n",
              "0  -113.308860  53.550905 -113.268436  \n",
              "0  -113.308860  53.550905 -113.268436  \n",
              "0  -113.308860  53.550905 -113.268436  \n",
              "..         ...        ...         ...  \n",
              "0  -113.228012  53.550905 -113.268436  \n",
              "0  -113.228012  53.550905 -113.268436  \n",
              "0  -113.228012  53.550905 -113.268436  \n",
              "0  -113.228012  53.550905 -113.268436  \n",
              "0  -113.228012  53.550905 -113.268436  \n",
              "\n",
              "[100 rows x 6 columns]"
            ]
          },
          "execution_count": 11,
          "metadata": {},
          "output_type": "execute_result"
        }
      ],
      "source": [
        "all_rt=areas.get_routes(from_, 5)\n",
        "all_rt"
      ]
    },
    {
      "cell_type": "code",
      "execution_count": 12,
      "metadata": {},
      "outputs": [
        {
          "data": {
            "text/plain": [
              "<Axes: >"
            ]
          },
          "execution_count": 12,
          "metadata": {},
          "output_type": "execute_result"
        },
        {
          "data": {
            "image/png": "[encoded data removed]",
            "text/plain": [
              "<Figure size 640x480 with 1 Axes>"
            ]
          },
          "metadata": {},
          "output_type": "display_data"
        }
      ],
      "source": [
        "all_rt.plot()"
      ]
    },
    {
      "attachments": {},
      "cell_type": "markdown",
      "metadata": {},
      "source": [
        "Finally, we can see a difference between the radius we defined in the area radius parameter. Some points are above 5km radius. We can filter and obtain the area of the extreme points using `areas.get_ameba()`."
      ]
    },
    {
      "cell_type": "code",
      "execution_count": 13,
      "metadata": {},
      "outputs": [],
      "source": [
        "ameba = areas.get_ameba(all_rt, max_km = 5, alpha = 80)"
      ]
    },
    {
      "cell_type": "code",
      "execution_count": 14,
      "metadata": {},
      "outputs": [
        {
          "data": {
            "image/png": "[encoded data removed]",
            "text/plain": [
              "<Figure size 640x480 with 1 Axes>"
            ]
          },
          "metadata": {},
          "output_type": "display_data"
        }
      ],
      "source": [
        "ameba.crs = None\n",
        "ameba.plot()\n",
        "ameba = ameba.set_crs(4326)"
      ]
    }
  ],
  "metadata": {
    "kernelspec": {
      "display_name": "Python 3 (ipykernel)",
      "language": "python",
      "name": "python3"
    },
    "language_info": {
      "codemirror_mode": {
        "name": "ipython",
        "version": 3
      },
      "file_extension": ".py",
      "mimetype": "text/x-python",
      "name": "python",
      "nbconvert_exporter": "python",
      "pygments_lexer": "ipython3",
      "version": "3.8.10"
    }
  },
  "nbformat": 4,
  "nbformat_minor": 4
}
