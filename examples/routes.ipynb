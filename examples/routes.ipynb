{
 "cells": [
  {
   "cell_type": "code",
   "execution_count": 11,
   "metadata": {},
   "outputs": [
    {
     "name": "stdout",
     "output_type": "stream",
     "text": [
      "Convert the country names to lowercase and replace spaces with dashes (-).\n",
      "source: https://download.geofabrik.de/\n",
      "Found testing\\peru-latest.osrm file. You can force with `force=True`\n",
      "An HSGR file named 'testing\\peru-latest.osrm.hsgr' was found. You can force with `force=True`\n",
      "The server is running in the background, you can start making queries.\n"
     ]
    }
   ],
   "source": [
    "import pandas as pd\n",
    "import matplotlib.pyplot as plt\n",
    "import matplotlib.ticker as ticker\n",
    "import geopandas as gpd\n",
    "from shapely.geometry import Point\n",
    "\n",
    "from osrmareas.downloader import GetPBF\n",
    "from osrmareas.osrm import Server\n",
    "from osrmareas import areas\n",
    "\n",
    "\n",
    "download = GetPBF()\n",
    "\n",
    "pbf_path = 'testing'\n",
    "pbf_file = 'peru-latest.osm'\n",
    "\n",
    "download.country(['peru']).get(save_dir=pbf_path)\n",
    "peru = Server(pbf_file, pbf_path).run_all()"
   ]
  },
  {
   "cell_type": "markdown",
   "metadata": {},
   "source": [
    "# Data"
   ]
  },
  {
   "cell_type": "code",
   "execution_count": 12,
   "metadata": {},
   "outputs": [
    {
     "data": {
      "text/html": [
       "<div>\n",
       "<style scoped>\n",
       "    .dataframe tbody tr th:only-of-type {\n",
       "        vertical-align: middle;\n",
       "    }\n",
       "\n",
       "    .dataframe tbody tr th {\n",
       "        vertical-align: top;\n",
       "    }\n",
       "\n",
       "    .dataframe thead th {\n",
       "        text-align: right;\n",
       "    }\n",
       "</style>\n",
       "<table border=\"1\" class=\"dataframe\">\n",
       "  <thead>\n",
       "    <tr style=\"text-align: right;\">\n",
       "      <th></th>\n",
       "      <th>lat_ori</th>\n",
       "      <th>long_ori</th>\n",
       "      <th>lat_des</th>\n",
       "      <th>long_des</th>\n",
       "    </tr>\n",
       "  </thead>\n",
       "  <tbody>\n",
       "    <tr>\n",
       "      <th>0</th>\n",
       "      <td>-7.157410</td>\n",
       "      <td>-78.464291</td>\n",
       "      <td>-7.163929</td>\n",
       "      <td>-78.464291</td>\n",
       "    </tr>\n",
       "    <tr>\n",
       "      <th>1</th>\n",
       "      <td>-7.157410</td>\n",
       "      <td>-78.464291</td>\n",
       "      <td>-7.158723</td>\n",
       "      <td>-78.460384</td>\n",
       "    </tr>\n",
       "    <tr>\n",
       "      <th>2</th>\n",
       "      <td>-7.157410</td>\n",
       "      <td>-78.464291</td>\n",
       "      <td>-7.167424</td>\n",
       "      <td>-78.469067</td>\n",
       "    </tr>\n",
       "    <tr>\n",
       "      <th>3</th>\n",
       "      <td>-7.148193</td>\n",
       "      <td>-78.453640</td>\n",
       "      <td>-7.147372</td>\n",
       "      <td>-78.457773</td>\n",
       "    </tr>\n",
       "    <tr>\n",
       "      <th>4</th>\n",
       "      <td>-7.148193</td>\n",
       "      <td>-78.453640</td>\n",
       "      <td>-7.150449</td>\n",
       "      <td>-78.449846</td>\n",
       "    </tr>\n",
       "    <tr>\n",
       "      <th>5</th>\n",
       "      <td>-7.148193</td>\n",
       "      <td>-78.453640</td>\n",
       "      <td>-7.148007</td>\n",
       "      <td>-78.451314</td>\n",
       "    </tr>\n",
       "  </tbody>\n",
       "</table>\n",
       "</div>"
      ],
      "text/plain": [
       "    lat_ori   long_ori   lat_des   long_des\n",
       "0 -7.157410 -78.464291 -7.163929 -78.464291\n",
       "1 -7.157410 -78.464291 -7.158723 -78.460384\n",
       "2 -7.157410 -78.464291 -7.167424 -78.469067\n",
       "3 -7.148193 -78.453640 -7.147372 -78.457773\n",
       "4 -7.148193 -78.453640 -7.150449 -78.449846\n",
       "5 -7.148193 -78.453640 -7.148007 -78.451314"
      ]
     },
     "execution_count": 12,
     "metadata": {},
     "output_type": "execute_result"
    }
   ],
   "source": [
    "data_d = {\n",
    "    \"lat_ori\": [-7.15741, -7.15741, -7.15741, -7.148193, -7.148193, -7.148193],\n",
    "    \"long_ori\": [-78.464291, -78.464291, -78.464291, -78.45364, -78.45364, -78.45364],\n",
    "    \"lat_des\": [-7.163929, -7.158723, -7.167424, -7.147372, -7.150449, -7.148007],\n",
    "    \"long_des\": [\n",
    "        -78.464291,\n",
    "        -78.460384,\n",
    "        -78.469067,\n",
    "        -78.457773,\n",
    "        -78.449846,\n",
    "        -78.451314,\n",
    "    ],\n",
    "}\n",
    "df = pd.DataFrame(data_d)\n",
    "df"
   ]
  },
  {
   "cell_type": "code",
   "execution_count": 13,
   "metadata": {},
   "outputs": [
    {
     "data": {
      "image/png": "[encoded data removed]",
      "text/plain": [
       "<Figure size 640x480 with 1 Axes>"
      ]
     },
     "metadata": {},
     "output_type": "display_data"
    }
   ],
   "source": [
    "\n",
    "fig, ax = plt.subplots()\n",
    "\n",
    "scatter_ori = ax.scatter(df['long_ori'], df['lat_ori'], c='orange', s=15, label='Origin')\n",
    "\n",
    "scatter_des = ax.scatter(df['long_des'], df['lat_des'], c='green', s=15, label='Destiny')\n",
    "\n",
    "def format_2digits(x, p):\n",
    "    return '{:.3f}'.format(x)\n",
    "\n",
    "ax.xaxis.set_major_formatter(ticker.FuncFormatter(format_2digits))\n",
    "ax.yaxis.set_major_formatter(ticker.FuncFormatter(format_2digits))\n",
    "\n",
    "ax.legend()\n",
    "\n",
    "plt.show();\n"
   ]
  },
  {
   "cell_type": "markdown",
   "metadata": {},
   "source": [
    "# OSRM"
   ]
  },
  {
   "cell_type": "markdown",
   "metadata": {},
   "source": [
    "## Extract information (Test)"
   ]
  },
  {
   "cell_type": "code",
   "execution_count": 14,
   "metadata": {},
   "outputs": [],
   "source": [
    "col_main = ['dist_driving_km', 'time_driving_sec', 'dist_eucl_km', 'geometry']"
   ]
  },
  {
   "cell_type": "code",
   "execution_count": 15,
   "metadata": {},
   "outputs": [],
   "source": [
    "test = df.iloc[0]\n",
    "from_ = [test['lat_ori'], test['long_ori']]\n",
    "to_ = [test['lat_des'], test['long_des']]\n",
    "route1 = areas.get_osrm_route(\n",
    "\tfrom_, to_\n",
    ")"
   ]
  },
  {
   "cell_type": "code",
   "execution_count": 16,
   "metadata": {},
   "outputs": [
    {
     "data": {
      "text/plain": [
       "<Axes: >"
      ]
     },
     "execution_count": 16,
     "metadata": {},
     "output_type": "execute_result"
    },
    {
     "data": {
      "image/png": "[encoded data removed]",
      "text/plain": [
       "<Figure size 640x480 with 1 Axes>"
      ]
     },
     "metadata": {},
     "output_type": "display_data"
    }
   ],
   "source": [
    "route1.plot()"
   ]
  },
  {
   "cell_type": "code",
   "execution_count": 17,
   "metadata": {},
   "outputs": [
    {
     "data": {
      "text/plain": [
       "array([1.3023, 157.6, 0.7209461886355335,\n",
       "       <LINESTRING (-78.464 -7.157, -78.465 -7.158, -78.465 -7.158, -78.465 -7.158,...>],\n",
       "      dtype=object)"
      ]
     },
     "execution_count": 17,
     "metadata": {},
     "output_type": "execute_result"
    }
   ],
   "source": [
    "values = route1[col_main].to_numpy()[0]\n",
    "values"
   ]
  },
  {
   "cell_type": "markdown",
   "metadata": {},
   "source": [
    "## Apply into dataFrame"
   ]
  },
  {
   "cell_type": "code",
   "execution_count": 18,
   "metadata": {},
   "outputs": [
    {
     "data": {
      "text/plain": [
       "0                                               1.3023\n",
       "1                                                157.6\n",
       "2                                             0.720946\n",
       "3    LINESTRING (-78.464249 -7.157431, -78.464573 -...\n",
       "dtype: object"
      ]
     },
     "execution_count": 18,
     "metadata": {},
     "output_type": "execute_result"
    }
   ],
   "source": [
    "def get_info(lat_ori, long_ori, lat_des, long_des):\n",
    "\tfrom_ = [lat_ori, long_ori]\n",
    "\tto_ = [lat_des, long_des]\n",
    "\troute1 = areas.get_osrm_route(\n",
    "\t\tfrom_, to_\n",
    "\t)\n",
    "\tvalues = route1[col_main].to_numpy()[0]\n",
    "\treturn pd.Series(values)\n",
    "get_info(from_[0], from_[1], to_[0], to_[1])"
   ]
  },
  {
   "cell_type": "code",
   "execution_count": 19,
   "metadata": {},
   "outputs": [
    {
     "data": {
      "text/html": [
       "<div>\n",
       "<style scoped>\n",
       "    .dataframe tbody tr th:only-of-type {\n",
       "        vertical-align: middle;\n",
       "    }\n",
       "\n",
       "    .dataframe tbody tr th {\n",
       "        vertical-align: top;\n",
       "    }\n",
       "\n",
       "    .dataframe thead th {\n",
       "        text-align: right;\n",
       "    }\n",
       "</style>\n",
       "<table border=\"1\" class=\"dataframe\">\n",
       "  <thead>\n",
       "    <tr style=\"text-align: right;\">\n",
       "      <th></th>\n",
       "      <th>lat_ori</th>\n",
       "      <th>long_ori</th>\n",
       "      <th>lat_des</th>\n",
       "      <th>long_des</th>\n",
       "      <th>dist_driving_km</th>\n",
       "      <th>time_driving_sec</th>\n",
       "      <th>dist_eucl_km</th>\n",
       "      <th>geometry</th>\n",
       "    </tr>\n",
       "  </thead>\n",
       "  <tbody>\n",
       "    <tr>\n",
       "      <th>0</th>\n",
       "      <td>-7.157410</td>\n",
       "      <td>-78.464291</td>\n",
       "      <td>-7.163929</td>\n",
       "      <td>-78.464291</td>\n",
       "      <td>1.3023</td>\n",
       "      <td>157.6</td>\n",
       "      <td>0.720946</td>\n",
       "      <td>LINESTRING (-78.46425 -7.15743, -78.46457 -7.1...</td>\n",
       "    </tr>\n",
       "    <tr>\n",
       "      <th>1</th>\n",
       "      <td>-7.157410</td>\n",
       "      <td>-78.464291</td>\n",
       "      <td>-7.158723</td>\n",
       "      <td>-78.460384</td>\n",
       "      <td>2.3175</td>\n",
       "      <td>235.4</td>\n",
       "      <td>0.455332</td>\n",
       "      <td>LINESTRING (-78.46425 -7.15743, -78.46457 -7.1...</td>\n",
       "    </tr>\n",
       "    <tr>\n",
       "      <th>2</th>\n",
       "      <td>-7.157410</td>\n",
       "      <td>-78.464291</td>\n",
       "      <td>-7.167424</td>\n",
       "      <td>-78.469067</td>\n",
       "      <td>1.8686</td>\n",
       "      <td>241.2</td>\n",
       "      <td>1.226693</td>\n",
       "      <td>LINESTRING (-78.46425 -7.15743, -78.46457 -7.1...</td>\n",
       "    </tr>\n",
       "    <tr>\n",
       "      <th>3</th>\n",
       "      <td>-7.148193</td>\n",
       "      <td>-78.453640</td>\n",
       "      <td>-7.147372</td>\n",
       "      <td>-78.457773</td>\n",
       "      <td>0.6919</td>\n",
       "      <td>112.0</td>\n",
       "      <td>0.465473</td>\n",
       "      <td>LINESTRING (-78.45360 -7.14821, -78.45362 -7.1...</td>\n",
       "    </tr>\n",
       "    <tr>\n",
       "      <th>4</th>\n",
       "      <td>-7.148193</td>\n",
       "      <td>-78.453640</td>\n",
       "      <td>-7.150449</td>\n",
       "      <td>-78.449846</td>\n",
       "      <td>1.4374</td>\n",
       "      <td>237.7</td>\n",
       "      <td>0.487728</td>\n",
       "      <td>LINESTRING (-78.45360 -7.14821, -78.45379 -7.1...</td>\n",
       "    </tr>\n",
       "    <tr>\n",
       "      <th>5</th>\n",
       "      <td>-7.148193</td>\n",
       "      <td>-78.453640</td>\n",
       "      <td>-7.148007</td>\n",
       "      <td>-78.451314</td>\n",
       "      <td>0.3218</td>\n",
       "      <td>44.6</td>\n",
       "      <td>0.257752</td>\n",
       "      <td>LINESTRING (-78.45360 -7.14821, -78.45342 -7.1...</td>\n",
       "    </tr>\n",
       "  </tbody>\n",
       "</table>\n",
       "</div>"
      ],
      "text/plain": [
       "    lat_ori   long_ori   lat_des   long_des  dist_driving_km  \\\n",
       "0 -7.157410 -78.464291 -7.163929 -78.464291           1.3023   \n",
       "1 -7.157410 -78.464291 -7.158723 -78.460384           2.3175   \n",
       "2 -7.157410 -78.464291 -7.167424 -78.469067           1.8686   \n",
       "3 -7.148193 -78.453640 -7.147372 -78.457773           0.6919   \n",
       "4 -7.148193 -78.453640 -7.150449 -78.449846           1.4374   \n",
       "5 -7.148193 -78.453640 -7.148007 -78.451314           0.3218   \n",
       "\n",
       "   time_driving_sec  dist_eucl_km  \\\n",
       "0             157.6      0.720946   \n",
       "1             235.4      0.455332   \n",
       "2             241.2      1.226693   \n",
       "3             112.0      0.465473   \n",
       "4             237.7      0.487728   \n",
       "5              44.6      0.257752   \n",
       "\n",
       "                                            geometry  \n",
       "0  LINESTRING (-78.46425 -7.15743, -78.46457 -7.1...  \n",
       "1  LINESTRING (-78.46425 -7.15743, -78.46457 -7.1...  \n",
       "2  LINESTRING (-78.46425 -7.15743, -78.46457 -7.1...  \n",
       "3  LINESTRING (-78.45360 -7.14821, -78.45362 -7.1...  \n",
       "4  LINESTRING (-78.45360 -7.14821, -78.45379 -7.1...  \n",
       "5  LINESTRING (-78.45360 -7.14821, -78.45342 -7.1...  "
      ]
     },
     "execution_count": 19,
     "metadata": {},
     "output_type": "execute_result"
    }
   ],
   "source": [
    "df[col_main] = df.apply(\n",
    "\tlambda row: get_info(\n",
    "\t\trow['lat_ori'], row['long_ori'],\n",
    "\t\trow['lat_des'], row['long_des'],\n",
    "\t)\n",
    "\t, axis = 1\n",
    "\t)\n",
    "df = gpd.GeoDataFrame(df)\n",
    "df"
   ]
  },
  {
   "cell_type": "code",
   "execution_count": 20,
   "metadata": {},
   "outputs": [],
   "source": [
    "origin = df[['lat_ori', 'long_ori']].drop_duplicates()\n",
    "\n",
    "origin['geometry'] = origin.apply(lambda row: Point(row['long_ori'], row['lat_ori']), axis=1)\n",
    "\n",
    "origin = gpd.GeoDataFrame(origin, geometry='geometry')\n",
    "destiny = df[['lat_des', 'long_des']]\n",
    "destiny['geometry'] = destiny.apply(lambda row: Point(row['long_des'], row['lat_des']), axis=1)\n",
    "destiny = gpd.GeoDataFrame(destiny, geometry='geometry')"
   ]
  },
  {
   "cell_type": "markdown",
   "metadata": {},
   "source": [
    "## Result"
   ]
  },
  {
   "cell_type": "code",
   "execution_count": 21,
   "metadata": {},
   "outputs": [
    {
     "data": {
      "image/png": "[encoded data removed]",
      "text/plain": [
       "<Figure size 640x480 with 1 Axes>"
      ]
     },
     "metadata": {},
     "output_type": "display_data"
    }
   ],
   "source": [
    "df.plot(ax = plt.gca(), color = 'green', label = 'OSRM route')\n",
    "origin.plot(ax = plt.gca(), color = 'orange', label = 'Origin')\n",
    "destiny.plot(ax = plt.gca(), color = 'blue', label = 'Destiny')\n",
    "plt.legend()\n",
    "plt.show()"
   ]
  },
  {
   "cell_type": "markdown",
   "metadata": {},
   "source": [
    "# Minimum time"
   ]
  },
  {
   "cell_type": "code",
   "execution_count": 22,
   "metadata": {},
   "outputs": [
    {
     "data": {
      "image/png": "[encoded data removed]",
      "text/plain": [
       "<Figure size 640x480 with 1 Axes>"
      ]
     },
     "metadata": {},
     "output_type": "display_data"
    }
   ],
   "source": [
    "min_id = df.groupby(['lat_ori', 'long_ori'])['time_driving_sec'].idxmin()\n",
    "min_time = df.iloc[min_id]\n",
    "min_time.plot(ax = plt.gca(), color = 'green', label = 'OSRM route')\n",
    "origin.plot(ax = plt.gca(), color = 'orange', label = 'Origin')\n",
    "destiny.iloc[min_id].plot(ax = plt.gca(), color = 'blue', label = 'Destiny')\n",
    "plt.legend()\n",
    "plt.show()"
   ]
  },
  {
   "cell_type": "code",
   "execution_count": 23,
   "metadata": {},
   "outputs": [
    {
     "data": {
      "text/html": [
       "<div>\n",
       "<style scoped>\n",
       "    .dataframe tbody tr th:only-of-type {\n",
       "        vertical-align: middle;\n",
       "    }\n",
       "\n",
       "    .dataframe tbody tr th {\n",
       "        vertical-align: top;\n",
       "    }\n",
       "\n",
       "    .dataframe thead th {\n",
       "        text-align: right;\n",
       "    }\n",
       "</style>\n",
       "<table border=\"1\" class=\"dataframe\">\n",
       "  <thead>\n",
       "    <tr style=\"text-align: right;\">\n",
       "      <th></th>\n",
       "      <th>lat_ori</th>\n",
       "      <th>long_ori</th>\n",
       "      <th>lat_des</th>\n",
       "      <th>long_des</th>\n",
       "      <th>dist_driving_km</th>\n",
       "      <th>time_driving_sec</th>\n",
       "      <th>dist_eucl_km</th>\n",
       "      <th>geometry</th>\n",
       "    </tr>\n",
       "  </thead>\n",
       "  <tbody>\n",
       "    <tr>\n",
       "      <th>0</th>\n",
       "      <td>-7.157410</td>\n",
       "      <td>-78.464291</td>\n",
       "      <td>-7.163929</td>\n",
       "      <td>-78.464291</td>\n",
       "      <td>1.3023</td>\n",
       "      <td>157.6</td>\n",
       "      <td>0.720946</td>\n",
       "      <td>LINESTRING (-78.46425 -7.15743, -78.46457 -7.1...</td>\n",
       "    </tr>\n",
       "    <tr>\n",
       "      <th>5</th>\n",
       "      <td>-7.148193</td>\n",
       "      <td>-78.453640</td>\n",
       "      <td>-7.148007</td>\n",
       "      <td>-78.451314</td>\n",
       "      <td>0.3218</td>\n",
       "      <td>44.6</td>\n",
       "      <td>0.257752</td>\n",
       "      <td>LINESTRING (-78.45360 -7.14821, -78.45342 -7.1...</td>\n",
       "    </tr>\n",
       "  </tbody>\n",
       "</table>\n",
       "</div>"
      ],
      "text/plain": [
       "    lat_ori   long_ori   lat_des   long_des  dist_driving_km  \\\n",
       "0 -7.157410 -78.464291 -7.163929 -78.464291           1.3023   \n",
       "5 -7.148193 -78.453640 -7.148007 -78.451314           0.3218   \n",
       "\n",
       "   time_driving_sec  dist_eucl_km  \\\n",
       "0             157.6      0.720946   \n",
       "5              44.6      0.257752   \n",
       "\n",
       "                                            geometry  \n",
       "0  LINESTRING (-78.46425 -7.15743, -78.46457 -7.1...  \n",
       "5  LINESTRING (-78.45360 -7.14821, -78.45342 -7.1...  "
      ]
     },
     "execution_count": 23,
     "metadata": {},
     "output_type": "execute_result"
    }
   ],
   "source": [
    "min_time"
   ]
  }
 ],
 "metadata": {
  "kernelspec": {
   "display_name": "Python 3",
   "language": "python",
   "name": "python3"
  },
  "language_info": {
   "codemirror_mode": {
    "name": "ipython",
    "version": 3
   },
   "file_extension": ".py",
   "mimetype": "text/x-python",
   "name": "python",
   "nbconvert_exporter": "python",
   "pygments_lexer": "ipython3",
   "version": "3.8.10"
  },
  "orig_nbformat": 4
 },
 "nbformat": 4,
 "nbformat_minor": 2
}
